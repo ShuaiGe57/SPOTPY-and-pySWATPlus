{
 "cells": [
  {
   "cell_type": "code",
   "execution_count": 1,
   "id": "2acb5f01-8ca1-4fc4-b5bb-3d5e2704eca4",
   "metadata": {
    "ExecuteTime": {
     "end_time": "2024-01-18T03:41:52.555134100Z",
     "start_time": "2024-01-18T03:41:50.834166800Z"
    }
   },
   "outputs": [],
   "source": [
    "\"\"\"\n",
    "安装pySWATPlus\n",
    "   SPOTPY\n",
    "   mpi4py\n",
    "   MS mpi\n",
    "\n",
    "0、pySWATPlus 下载rar解压，用anaconda prompt界面cd到解压的文件夹，用pytohn setup.py install安装\n",
    "\n",
    "一、TxtinoutReader\n",
    "1.必须指定工作路径，否则工作路径会变成copy里的路径\n",
    "2.必须使用绝对路径\n",
    "3.网页教程的参数格式不对\n",
    "4.改变参数，不指定行id时，用 None\n",
    "\n",
    "二、FileReader\n",
    "1.读取文件不指定index时，必须用None,不可省略\n",
    "2.usecols省略的话，读取的df为空\n",
    "\n",
    "三、定义SWAT函数给SPOTPY用时注意以下几点\n",
    "1、SWAT模型的参数定义不要超过上下界，如(0, 1)用(0.001, 0.999)代替\n",
    "2、用pySWATPlus定义函数给simulation用时，尽量把只修改一次文件的语句放函数外面\n",
    "   例如， reader.set_beginning_and_end_year(2017, 2018)\n",
    "         reader.set_warmup(1)\n",
    "         reader.enable_object_in_print_prt(\"channel_sd\", True, False, False, False)\n",
    "   这些直接在root文件夹里手动改就行，不要写成代码，因为用mpiexec并行处理时，会导致文件被意想不到的修改\n",
    "\"\"\"\n",
    "\n",
    "import os\n",
    "import pandas as pd\n",
    "import numpy as np\n",
    "import spotpy as sp\n",
    "import shutil\n",
    "import mpi4py\n",
    "import sys\n",
    "from pySWATPlus.TxtinoutReader import TxtinoutReader\n",
    "from pySWATPlus.FileReader import FileReader\n",
    "from matplotlib import pyplot as plt\n",
    "from datetime import datetime\n",
    "cwd = \"E:/SPOTPY-and-pySWATPlus\""
   ]
  },
  {
   "cell_type": "code",
   "outputs": [],
   "source": [
    "FAST_results = sp.analyser.load_csv_results('FAST')\n",
    "sp.analyser.plot_fast_sensitivity(FAST_results, number_of_sensitiv_pars=3)"
   ],
   "metadata": {
    "collapsed": false,
    "ExecuteTime": {
     "start_time": "2024-01-18T03:41:58.177495300Z"
    }
   },
   "id": "b8001547cebfb91a",
   "execution_count": null
  }
 ],
 "metadata": {
  "kernelspec": {
   "display_name": "Python 3 (ipykernel)",
   "language": "python",
   "name": "python3"
  },
  "language_info": {
   "codemirror_mode": {
    "name": "ipython",
    "version": 3
   },
   "file_extension": ".py",
   "mimetype": "text/x-python",
   "name": "python",
   "nbconvert_exporter": "python",
   "pygments_lexer": "ipython3",
   "version": "3.11.4"
  }
 },
 "nbformat": 4,
 "nbformat_minor": 5
}
