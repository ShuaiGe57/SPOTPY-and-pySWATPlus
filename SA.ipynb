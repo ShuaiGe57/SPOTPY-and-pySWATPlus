{
 "cells": [
  {
   "cell_type": "code",
   "execution_count": 10,
   "id": "4ca304a7aa974c7c",
   "metadata": {
    "collapsed": false,
    "ExecuteTime": {
     "end_time": "2024-02-06T00:49:33.194409100Z",
     "start_time": "2024-02-06T00:49:33.189767100Z"
    }
   },
   "outputs": [],
   "source": [
    "import os\n",
    "import pandas as pd\n",
    "import numpy as np\n",
    "import sys\n",
    "from matplotlib import pyplot as plt\n",
    "from datetime import datetime\n",
    "from SALib.sample.morris import morris as sample\n",
    "from SALib.analyze import morris as analyze"
   ]
  },
  {
   "cell_type": "code",
   "outputs": [],
   "source": [
    "problem = {\n",
    "    \"num_vars\": 48,\n",
    "    \"names\": [\n",
    "        \"lat_ttime\",\n",
    "        \"can_max\",\n",
    "        \"esco\",\n",
    "        \"epco\",\n",
    "        \"cn3_swf\",\n",
    "        \"perco\",\n",
    "        \"pet_co\",\n",
    "        \"latq_co\",\n",
    "        \"cn_a\",\n",
    "        \"cn_b\",\n",
    "        \"cn_c\",\n",
    "        \"cn_d\",\n",
    "        \"gw_flo\",\n",
    "        \"dep_bot\",\n",
    "        \"dep_wt\",\n",
    "        \"flo_dist\",\n",
    "        \"bf_max\",\n",
    "        \"alpha_bf\",\n",
    "        \"revap\",\n",
    "        \"rchg_dp\",\n",
    "        \"spec_yld\",\n",
    "        \"flo_min\",\n",
    "        \"revap_min\",\n",
    "        \"fall_tmp\",\n",
    "        \"melt_tmp\",\n",
    "        \"melt_max_min\",\n",
    "        \"melt_lag\",\n",
    "        \"snow_h2o\",\n",
    "        \"cov50\",\n",
    "        \"dp\",\n",
    "        \"t_fc\",\n",
    "        \"lag\",\n",
    "        \"rad\",\n",
    "        \"dist\",\n",
    "        \"drain\",\n",
    "        \"pump\",\n",
    "        \"lat_kast\",\n",
    "        \"lai_noevap\",\n",
    "        \"sw_init\",\n",
    "        \"surq_lag\",\n",
    "        \"msk_co1\",\n",
    "        \"msk_co2\",\n",
    "        \"msk_x\",\n",
    "        \"evap_adj\",\n",
    "        \"scoef\",\n",
    "        \"surq_exp\",\n",
    "        \"fert\",\n",
    "        \"awc\"\n",
    "    ],\n",
    "    \"bounds\": [\n",
    "        [0.51, 179.0],\n",
    "        [0.01, 99.9],\n",
    "        [0.01, 0.99],\n",
    "        [0.01, 0.99],\n",
    "        [0.01, 0.99],\n",
    "        [0.01, 0.99],\n",
    "        [0.71, 1.29],\n",
    "        [0.01, 0.99],\n",
    "        [30.0, 70.0],\n",
    "        [50.0, 80.0],\n",
    "        [70.0, 90.0],\n",
    "        [80.0, 95.0],\n",
    "        [0.0, 2.0],\n",
    "        [5.0, 50.0],\n",
    "        [2.0, 20.0],\n",
    "        [10.0, 200.0],\n",
    "        [0.11, 1.99],\n",
    "        [0.01, 0.99],\n",
    "        [0.021, 0.199],\n",
    "        [0.001, 0.100],\n",
    "        [0.01, 0.49],\n",
    "        [0.1, 49.0],\n",
    "        [0.1, 49.0],\n",
    "        [-4.9, 4.9],\n",
    "        [-4.9, 4.9],\n",
    "        [0.1, 9.9],\n",
    "        [0.01, 0.99],\n",
    "        [0.1, 499.9],\n",
    "        [0.01, 0.90],\n",
    "        [0.1, 5999.9],\n",
    "        [0.1, 99.9],\n",
    "        [0.1, 99.9],\n",
    "        [3.1, 39.9],\n",
    "        [7601, 29999],\n",
    "        [10.1, 50.9],\n",
    "        [0.1, 9.9],\n",
    "        [0.02, 3.99],\n",
    "        [0.1, 9.9],\n",
    "        [0.01, 0.99],\n",
    "        [1.1, 23.9],\n",
    "        [0.1, 9.9],\n",
    "        [0.1, 9.9],\n",
    "        [0.01, 0.29],\n",
    "        [0.51, 0.99],\n",
    "        [0.01, 0.99],\n",
    "        [1.1, 2.9],\n",
    "        [10, 100],\n",
    "        [0.01, 0.9]\n",
    "    ]\n",
    "}\n",
    "X = np.loadtxt(\"SA_X.txt\", float)\n",
    "Y = np.loadtxt(\"SA_Y.txt\", float)\n",
    "Si = analyze.analyze(problem, X, Y)"
   ],
   "metadata": {
    "collapsed": false,
    "ExecuteTime": {
     "end_time": "2024-02-06T00:49:33.225206600Z",
     "start_time": "2024-02-06T00:49:33.205378700Z"
    }
   },
   "id": "1aab27cab5d42bf4",
   "execution_count": 11
  },
  {
   "cell_type": "code",
   "outputs": [
    {
     "data": {
      "text/plain": "<Figure size 640x480 with 1 Axes>",
      "image/png": "[encoded data removed]"
     },
     "metadata": {},
     "output_type": "display_data"
    }
   ],
   "source": [
    "# print(Si[\"mu\"])\n",
    "x=Si[\"mu\"]\n",
    "y=Si[\"sigma\"]\n",
    "label=Si[\"names\"]\n",
    "plt.scatter(x,y)\n",
    "# plt.xlim(-0.3,0.4)\n",
    "# plt.ylim(0,0.4)\n",
    "for i in range(len(x)):\n",
    "    if abs(x[i]) > 0.01:\n",
    "        plt.annotate(label[i], xy=(x[i]+0.01, y[i]+0.01))"
   ],
   "metadata": {
    "collapsed": true,
    "ExecuteTime": {
     "end_time": "2024-02-06T00:49:33.415738200Z",
     "start_time": "2024-02-06T00:49:33.228197300Z"
    }
   },
   "id": "initial_id",
   "execution_count": 12
  }
 ],
 "metadata": {
  "kernelspec": {
   "display_name": "Python 3",
   "language": "python",
   "name": "python3"
  },
  "language_info": {
   "codemirror_mode": {
    "name": "ipython",
    "version": 2
   },
   "file_extension": ".py",
   "mimetype": "text/x-python",
   "name": "python",
   "nbconvert_exporter": "python",
   "pygments_lexer": "ipython2",
   "version": "2.7.6"
  }
 },
 "nbformat": 4,
 "nbformat_minor": 5
}
