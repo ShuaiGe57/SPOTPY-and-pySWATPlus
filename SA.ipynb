{
 "cells": [
  {
   "cell_type": "code",
   "execution_count": 1,
   "id": "4ca304a7aa974c7c",
   "metadata": {
    "collapsed": false,
    "ExecuteTime": {
     "end_time": "2024-02-15T02:09:09.449469200Z",
     "start_time": "2024-02-15T02:09:06.628459Z"
    }
   },
   "outputs": [],
   "source": [
    "import os\n",
    "import pandas as pd\n",
    "import numpy as np\n",
    "import sys\n",
    "from matplotlib import pyplot as plt\n",
    "from datetime import datetime\n",
    "from SALib.sample.morris import morris as sample\n",
    "from SALib.analyze import morris as analyze"
   ]
  },
  {
   "cell_type": "code",
   "outputs": [],
   "source": [
    "problem = {\n",
    "    \"num_vars\": 68,\n",
    "    \"names\": [         \n",
    "        \"lat_ttime\",   \n",
    "        \"can_max\",     \n",
    "        \"esco\",        \n",
    "        \"epco\",        \n",
    "        \"cn3_swf\",     \n",
    "        \"perco\",       \n",
    "        \"pet_co\",      \n",
    "        \"latq_co\",     \n",
    "        \"cn_a\",        \n",
    "        \"cn_b\",        \n",
    "        \"cn_c\",        \n",
    "        \"cn_d\",        \n",
    "        \"gw_flo\",      \n",
    "        \"dep_bot\",     \n",
    "        \"dep_wt\",      \n",
    "        \"no3_n\",      \n",
    "        \"flo_dist\",    \n",
    "        \"bf_max\",      \n",
    "        \"alpha_bf\",    \n",
    "        \"revap\",       \n",
    "        \"rchg_dp\",     \n",
    "        \"spec_yld\",    \n",
    "        \"hl_no3n\",    \n",
    "        \"flo_min\",     \n",
    "        \"revap_min\",   \n",
    "        \"fall_tmp\",    \n",
    "        \"melt_tmp\",    \n",
    "        \"melt_max_min\",\n",
    "        \"tmp_lag\",    \n",
    "        \"snow_h2o\",    \n",
    "        \"cov50\",       \n",
    "        \"snow_init\",  \n",
    "        \"dp\",          \n",
    "        \"t_fc\",        \n",
    "        \"lag\",         \n",
    "        \"rad\",         \n",
    "        \"dist\",        \n",
    "        \"drain\",       \n",
    "        \"pump\",        \n",
    "        \"lat_ksat\",    \n",
    "        \"lai_noevap\",  \n",
    "        \"sw_init\",\n",
    "        \"surq_lag\",\n",
    "        \"orgn_min\",\n",
    "        \"n_uptake\",\n",
    "        \"n_perc\",\n",
    "        \"rsd_decomp\",\n",
    "        \"msk_co1\",\n",
    "        \"msk_co2\",\n",
    "        \"msk_x\",\n",
    "        \"nperco_lchtile\",\n",
    "        \"evap_adj\",\n",
    "        \"scoef\",\n",
    "        \"denit_exp\",\n",
    "        \"denit_frac\",\n",
    "        \"n_fix_max\",\n",
    "        \"rsd_decay\",\n",
    "        \"rsd_cover\",\n",
    "        \"surq_exp\",\n",
    "        \"exp_co\",\n",
    "        \"nitrate\",\n",
    "        \"fr_hum_act\",\n",
    "        \"hum_c_n\",\n",
    "        \"ovn\",\n",
    "        \"awc\",\n",
    "        \"soil_k\",\n",
    "        \"rsd_init\",\n",
    "        \"fert\",\n",
    "    ],\n",
    "    \"bounds\": [\n",
    "        [0.51, 179.0],\n",
    "        [0.01, 99.9],\n",
    "        [0.01, 0.99],\n",
    "        [0.01, 0.99],\n",
    "        [0.01, 0.99],\n",
    "        [0.01, 0.99],\n",
    "        [0.71, 1.29],\n",
    "        [0.01, 0.99],\n",
    "        [30.0, 70.0],\n",
    "        [50.0, 80.0],\n",
    "        [70.0, 90.0],\n",
    "        [80.0, 95.0],\n",
    "        [0.0, 2.0],\n",
    "        [5.0, 50.0],\n",
    "        [2.0, 20.0],\n",
    "        [0.1, 999.9],\n",
    "        [10.0, 200.0],\n",
    "        [0.11, 1.99],\n",
    "        [0.01, 0.99],\n",
    "        [0.021, 0.199], #revap\n",
    "        [0.01, 0.99],\n",
    "        [0.01, 0.49], #spec_yld\n",
    "        [0.1, 199.9],\n",
    "        [0.1, 49.0],\n",
    "        [0.1, 49.0],\n",
    "        [-4.9, 4.9],\n",
    "        [-4.9, 4.9],\n",
    "        [0.1, 9.9],  #melt_max_min\n",
    "        [0.01, 0.99],\n",
    "        [0.1, 499.9],\n",
    "        [0.01, 0.90],\n",
    "        [0, 1000], #snow_init\n",
    "        [0.1, 5999.9],\n",
    "        [0.1, 99.9],\n",
    "        [0.1, 99.9],\n",
    "        [3.1, 39.9],\n",
    "        [7601, 29999],\n",
    "        [10.1, 50.9],\n",
    "        [0.1, 9.9],\n",
    "        [0.02, 3.99],\n",
    "        [0.1, 9.9],\n",
    "        [0.01, 0.99],\n",
    "        [1.1, 23.9],\n",
    "        [0.0011, 0.0029], #orgn_min\n",
    "        [0.1, 99.9],\n",
    "        [0.01, 0.99],\n",
    "        [0.021, 0.099],\n",
    "        [0.1, 9.9],\n",
    "        [0.1, 9.9],\n",
    "        [0.01, 0.29],\n",
    "        [0.01, 0.99], #nperco_lchtile\n",
    "        [0.51, 0.99],\n",
    "        [0.01, 0.99],\n",
    "        [0.01, 2.99], #denit_exp\n",
    "        [0.01, 0.99],\n",
    "        [1.1, 19.9],\n",
    "        [0.001, 0.049],\n",
    "        [0.11, 0.49],\n",
    "        [1.1, 2.9],\n",
    "        [0.01, 0.99], #exp_co\n",
    "        [0.1, 99.9],\n",
    "        [0.01, 0.99],\n",
    "        [8.1, 11.9],\n",
    "        [0.011, 0.69],\n",
    "        [0.01, 0.99],\n",
    "        [0.1, 1999], #soil_k\n",
    "        [1, 9999],\n",
    "        [1, 1000]\n",
    "    ]\n",
    "}\n",
    "X = np.loadtxt(\"SA_X.txt\", float)\n",
    "Y = np.loadtxt(\"SA_Y.txt\", float)\n",
    "Si = analyze.analyze(problem, X, Y, num_resamples=1000, num_levels=6, seed=1)\n",
    "pd.DataFrame(Si).to_csv(\"SI.csv\")"
   ],
   "metadata": {
    "collapsed": false,
    "ExecuteTime": {
     "end_time": "2024-02-15T02:10:52.919975800Z",
     "start_time": "2024-02-15T02:10:52.715966100Z"
    }
   },
   "id": "1aab27cab5d42bf4",
   "execution_count": 5
  },
  {
   "cell_type": "code",
   "outputs": [
    {
     "data": {
      "text/plain": "<Figure size 640x480 with 1 Axes>",
      "image/png": "[encoded data removed]"
     },
     "metadata": {},
     "output_type": "display_data"
    }
   ],
   "source": [
    "x=Si[\"mu_star\"]\n",
    "y=Si[\"sigma\"]\n",
    "label=Si[\"names\"]\n",
    "plt.scatter(x,y)\n",
    "# plt.xlim(-0.3,10)\n",
    "# plt.ylim(0,10)\n",
    "for i in range(len(x)):\n",
    "    if abs(x[i]) > 0.01:\n",
    "        plt.annotate(label[i], xy=(x[i]+0.01, y[i]+0.01))"
   ],
   "metadata": {
    "collapsed": true,
    "ExecuteTime": {
     "end_time": "2024-02-15T02:10:57.911364900Z",
     "start_time": "2024-02-15T02:10:57.623120600Z"
    }
   },
   "id": "initial_id",
   "execution_count": 6
  },
  {
   "cell_type": "code",
   "outputs": [],
   "source": [
    "pd.DataFrame(Si).to_csv(\"SI.csv\")"
   ],
   "metadata": {
    "collapsed": false,
    "ExecuteTime": {
     "end_time": "2024-02-15T02:09:09.946953400Z",
     "start_time": "2024-02-15T02:09:09.921706600Z"
    }
   },
   "id": "efec1d0c71d1b409",
   "execution_count": 4
  }
 ],
 "metadata": {
  "kernelspec": {
   "display_name": "Python 3",
   "language": "python",
   "name": "python3"
  },
  "language_info": {
   "codemirror_mode": {
    "name": "ipython",
    "version": 2
   },
   "file_extension": ".py",
   "mimetype": "text/x-python",
   "name": "python",
   "nbconvert_exporter": "python",
   "pygments_lexer": "ipython2",
   "version": "2.7.6"
  }
 },
 "nbformat": 4,
 "nbformat_minor": 5
}
