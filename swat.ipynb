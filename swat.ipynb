{
 "cells": [
  {
   "cell_type": "code",
   "execution_count": 12,
   "id": "2acb5f01-8ca1-4fc4-b5bb-3d5e2704eca4",
   "metadata": {
    "ExecuteTime": {
     "end_time": "2024-01-11T11:53:04.782678800Z",
     "start_time": "2024-01-11T11:53:04.647039600Z"
    }
   },
   "outputs": [],
   "source": [
    "\"\"\"\n",
    "安装pySWATPlus\n",
    "   SPOTPY\n",
    "   mpi4py\n",
    "   MS mpi\n",
    "\n",
    "0、pySWATPlus 下载rar解压，用anaconda prompt界面cd到解压的文件夹，用pytohn setup.py install安装\n",
    "\n",
    "一、TxtinoutReader\n",
    "1.必须指定工作路径，否则工作路径会变成copy里的路径\n",
    "2.必须使用绝对路径\n",
    "3.网页教程的参数格式不对\n",
    "4.改变参数，不指定行id时，用 None\n",
    "\n",
    "二、FileReader\n",
    "1.读取文件不指定index时，必须用None,不可省略\n",
    "2.usecols省略的话，读取的df为空\n",
    "\n",
    "三、定义SWAT函数给SPOTPY用时注意以下几点\n",
    "1、SWAT模型的参数定义不要超过上下界，如(0, 1)用(0.001, 0.999)代替\n",
    "2、用pySWATPlus定义函数给simulation用时，尽量把只修改一次文件的语句放函数外面\n",
    "   例如， reader.set_beginning_and_end_year(2017, 2018)\n",
    "         reader.set_warmup(1)\n",
    "         reader.enable_object_in_print_prt(\"channel_sd\", True, False, False, False)\n",
    "   这些直接在root文件夹里手动改就行，不要写成代码，因为用mpiexec并行处理时，会导致文件被意想不到的修改\n",
    "\"\"\"\n",
    "%reset -f\n",
    "import os\n",
    "import pandas as pd\n",
    "import numpy as np\n",
    "import spotpy as sp\n",
    "import shutil\n",
    "import mpi4py\n",
    "import sys\n",
    "from pySWATPlus.TxtinoutReader import TxtinoutReader\n",
    "from pySWATPlus.FileReader import FileReader\n",
    "from matplotlib import pyplot as plt\n",
    "from datetime import datetime\n",
    "cwd = os.getcwd()"
   ]
  },
  {
   "cell_type": "markdown",
   "source": [
    "# 用pySWATPlus定义huron_swat函数"
   ],
   "metadata": {
    "collapsed": false
   },
   "id": "ae7b3677bc95ebbf"
  },
  {
   "cell_type": "code",
   "outputs": [],
   "source": [
    "def huron_swat(reader, params):\n",
    "    result = reader.copy_and_run(dir=os.path.join(cwd,'try'),\n",
    "                                 params=params,\n",
    "                                 show_output=False\n",
    "                                 )\n",
    "    # print(reader.root_folder)\n",
    "    reader = FileReader(os.path.join(result, \"channel_sd_day.txt\"),\n",
    "                        has_units = True,\n",
    "                        index=None,\n",
    "                        usecols=[\"mon\", \"day\", \"yr\", \"unit\", \"flo_out\"],\n",
    "                        filter_by={\"unit\": 1}\n",
    "                        )\n",
    "    res = reader.df\n",
    "    res[\"Date\"] = pd.to_datetime(pd.DataFrame({\"year\": res[\"yr\"],\n",
    "                                                 \"month\": res[\"mon\"],\n",
    "                                                 \"day\": res[\"day\"]}))\n",
    "    res.drop(columns=[\"mon\", \"day\", \"yr\", \"unit\"], inplace=True)\n",
    "    os.chdir(cwd) #改回当前路径\n",
    "    return res"
   ],
   "metadata": {
    "collapsed": false,
    "ExecuteTime": {
     "end_time": "2024-01-11T11:53:04.788002400Z",
     "start_time": "2024-01-11T11:53:04.786454100Z"
    }
   },
   "id": "4e91506c349437fb",
   "execution_count": 13
  },
  {
   "cell_type": "markdown",
   "source": [
    "# 定义SPOTPY类"
   ],
   "metadata": {
    "collapsed": false
   },
   "id": "e7548bd89a74b697"
  },
  {
   "cell_type": "code",
   "outputs": [],
   "source": [
    "from spotpy.parameter import Uniform\n",
    "class spot_swat():\n",
    "    def __init__(self, TxtInOut_abspath):\n",
    "        self.reader = TxtinoutReader(TxtInOut_abspath)\n",
    "    \n",
    "        self.params = [Uniform(\"lat_ttime\",0.51, 179.0),\n",
    "                       Uniform(\"can_max\",0.01, 99.9),\n",
    "                       Uniform(\"esco\",0.01,0.99),\n",
    "                       Uniform(\"epco\",0.01, 0.99),\n",
    "                       Uniform(\"cn3_swf\",0.01, 0.99),\n",
    "                       Uniform(\"perco\",0.01, 0.99),\n",
    "                       Uniform(\"pet_co\",0.71, 1.29),\n",
    "                       Uniform(\"latq_co\",0.01, 0.99),\n",
    "                       Uniform(\"cn_a\",50.0, 70.0),\n",
    "                       Uniform(\"cn_b\",70.0, 80.0),\n",
    "                       Uniform(\"cn_c\",80.0, 90.0),\n",
    "                       Uniform(\"cn_d\",90.0, 99.0),\n",
    "                       ]\n",
    "    def parameters(self):\n",
    "        return sp.parameter.generate(self.params)\n",
    "    # par = [Uniform(\"lat_ttime\",0.5, 180.0),\n",
    "    #        Uniform(\"can_max\",0.0, 100.0),\n",
    "    #        Uniform(\"esco\",0.0,.0),\n",
    "    #        Uniform(\"epco\",0.0, 1.0),\n",
    "    #        Uniform(\"cn3_swf\",0.0, 1.0),\n",
    "    #        Uniform(\"perco\",0.0, 1.0),\n",
    "    #        Uniform(\"pet_co\",0.7, 1.3),\n",
    "    #        Uniform(\"latq_co\",0.0, 1.0),\n",
    "    #        Uniform(\"cn_a\",50.0, 70.0),\n",
    "    #        Uniform(\"cn_b\",70.0, 80.0),\n",
    "    #        Uniform(\"cn_c\",80.0, 90.0),\n",
    "    #        Uniform(\"cn_d\",90.0, 100.0),\n",
    "    #        ]\n",
    "    def simulation(self, vector):\n",
    "        par = np.array(vector)\n",
    "        swat_params = {\"hydrology.hyd\":(\"name\", [(None,\"lat_ttime\", par[0]),\n",
    "                                                 (None,\"can_max\", par[1]),\n",
    "                                                 (None,\"esco\", par[2]),\n",
    "                                                 (None,\"epco\", par[3]),\n",
    "                                                 (None,\"cn3_swf\", par[4]),\n",
    "                                                 (None,\"perco\", par[5]),\n",
    "                                                 (None,\"pet_co\", par[6]),\n",
    "                                                 (None,\"latq_co\", par[7]),\n",
    "                                                 ],\n",
    "                                        ),\n",
    "                       \"cntable.lum\":(\"description\", [(\"Row_crops\",\"cn_a\", par[8]),\n",
    "                                                      (\"Row_crops\",\"cn_b\", par[9]),\n",
    "                                                      (\"Row_crops\",\"cn_c\", par[10]),\n",
    "                                                      (\"Row_crops\",\"cn_d\", par[11]),\n",
    "                                                      ],\n",
    "                                      ),\n",
    "                       }\n",
    "        sim = huron_swat(self.reader ,swat_params)\n",
    "        return sim[\"flo_out\"]\n",
    "    \n",
    "    def evaluation(self):\n",
    "        obs = pd.read_csv(os.path.join(cwd,'TimeSeries\\\\04199000.csv'))\n",
    "        obs[\"Date\"] = pd.to_datetime(obs[\"Date\"])\n",
    "        obs = obs.loc[((obs[\"Date\"] >= \"2018-01-01\") & (obs[\"Date\"] <= \"2020-12-31\")),\"Q\"]\n",
    "        return obs\n",
    "    def objectivefunction(self, simulation, evaluation):\n",
    "        objfun = sp.objectivefunctions.nashsutcliffe(evaluation, simulation)\n",
    "        return objfun\n",
    "    "
   ],
   "metadata": {
    "collapsed": false,
    "ExecuteTime": {
     "end_time": "2024-01-11T11:53:04.798105Z",
     "start_time": "2024-01-11T11:53:04.793071900Z"
    }
   },
   "id": "5cdefb95b70a4e4f",
   "execution_count": 14
  },
  {
   "cell_type": "code",
   "outputs": [
    {
     "name": "stdout",
     "output_type": "stream",
     "text": [
      "Initializing the  Monte Carlo (MC) sampler  with  3  repetitions\n",
      "Starting the MC algorithm with 3 repetitions...\n",
      "1 of 3, min objf=0.0109445, max objf=0.0109445, time remaining: 00:00:24\n",
      "Initialize database...\n",
      "['csv', 'hdf5', 'ram', 'sql', 'custom', 'noData']\n",
      "* Database file 'huron.csv' created.\n",
      "2 of 3, min objf=-0.0463216, max objf=0.0109445, time remaining: 00:00:00\n",
      "3 of 3, min objf=-0.0463216, max objf=0.0109445, time remaining: 23:59:26\n",
      "\n",
      "*** Final SPOTPY summary ***\n",
      "Total Duration: 137.24 seconds\n",
      "Total Repetitions: 3\n",
      "Minimal objective value: -0.0463216\n",
      "Corresponding parameter setting:\n",
      "lat_ttime: 10.2992\n",
      "can_max: 28.9852\n",
      "esco: 0.132387\n",
      "epco: 0.884526\n",
      "cn3_swf: 0.485917\n",
      "perco: 0.57901\n",
      "pet_co: 1.23601\n",
      "latq_co: 0.955437\n",
      "cn_a: 60.4813\n",
      "cn_b: 73.7533\n",
      "cn_c: 83.7808\n",
      "cn_d: 90.6974\n",
      "Maximal objective value: 0.0109445\n",
      "Corresponding parameter setting:\n",
      "lat_ttime: 25.9443\n",
      "can_max: 65.5147\n",
      "esco: 0.894261\n",
      "epco: 0.944216\n",
      "cn3_swf: 0.479974\n",
      "perco: 0.915623\n",
      "pet_co: 0.735439\n",
      "latq_co: 0.819846\n",
      "cn_a: 65.2422\n",
      "cn_b: 76.7374\n",
      "cn_c: 85.9424\n",
      "cn_d: 90.8484\n",
      "******************************\n"
     ]
    }
   ],
   "source": [
    "proj_path = os.path.join(cwd, \"TxtInOut\")\n",
    "spot_setup = spot_swat(proj_path)\n",
    "spot_setup.reader.set_beginning_and_end_year(2017, 2020)\n",
    "spot_setup.reader.set_warmup(1)\n",
    "spot_setup.reader.enable_object_in_print_prt(\"channel_sd\", True, False, False, False)\n",
    "sampler = sp.algorithms.mc(spot_setup,\n",
    "                           dbname=\"huron\", \n",
    "                           dbformat=\"csv\",\n",
    "                           # parallel=\"mpc\",\n",
    "                           )\n",
    "# print(describe(sampler))\n",
    "sampler.sample(repetitions=3,\n",
    "               # ngs=10,\n",
    "               )"
   ],
   "metadata": {
    "collapsed": false,
    "ExecuteTime": {
     "end_time": "2024-01-11T11:55:22.052300400Z",
     "start_time": "2024-01-11T11:53:04.799103500Z"
    }
   },
   "id": "efd6fa65568daefd",
   "execution_count": 15
  },
  {
   "cell_type": "code",
   "outputs": [
    {
     "data": {
      "text/plain": "<Figure size 900x500 with 1 Axes>",
      "image/png": "[encoded data removed]"
     },
     "metadata": {},
     "output_type": "display_data"
    }
   ],
   "source": [
    "results = sp.analyser.load_csv_results(\"huron\")\n",
    "fig = plt.figure(1, figsize=(9,5))\n",
    "plt.plot(results['like1'])\n",
    "plt.xlabel(\"iteration\")\n",
    "plt.ylabel(\"-NSE\")\n",
    "plt.show()"
   ],
   "metadata": {
    "collapsed": false,
    "ExecuteTime": {
     "end_time": "2024-01-11T11:55:22.153877400Z",
     "start_time": "2024-01-11T11:55:22.049225400Z"
    }
   },
   "id": "94a2430c36284351",
   "execution_count": 16
  },
  {
   "cell_type": "code",
   "outputs": [],
   "source": [
    "# obs = pd.read_csv(os.path.join(cwd,'TimeSeries\\\\04199000.csv'))\n",
    "# obs[\"Date\"] = pd.to_datetime(obs[\"Date\"])\n",
    "# obs = obs.loc[((obs[\"Date\"] >= \"2018-01-01\") & (obs[\"Date\"] <= \"2020-12-31\")),\"Q\"]\n",
    "# \n",
    "# copy_path = \"D:\\\\Document\\\\5_Paper\\\\Uncertainty\\\\TidyData\\\\try\\\\tmpesiisrsz\"\n",
    "# reader = FileReader(os.path.join(copy_path, \"channel_sd_day.txt\"),\n",
    "#                     has_units = True,\n",
    "#                     index=None,\n",
    "#                     usecols=[\"mon\", \"day\", \"yr\", \"unit\", \"flo_out\"],\n",
    "#                     filter_by={\"unit\": 1}\n",
    "#                     )\n",
    "# res = reader.df\n",
    "# res[\"Date\"] = pd.to_datetime(pd.DataFrame({\"year\": res[\"yr\"],\n",
    "#                                            \"month\": res[\"mon\"],\n",
    "#                                            \"day\": res[\"day\"]}))\n",
    "# res.drop(columns=[\"mon\", \"day\", \"yr\", \"unit\"], inplace=True)"
   ],
   "metadata": {
    "collapsed": false,
    "ExecuteTime": {
     "end_time": "2024-01-11T11:55:22.158487700Z",
     "start_time": "2024-01-11T11:55:22.154900600Z"
    }
   },
   "id": "d61928d9676fe41",
   "execution_count": 17
  }
 ],
 "metadata": {
  "kernelspec": {
   "display_name": "Python 3 (ipykernel)",
   "language": "python",
   "name": "python3"
  },
  "language_info": {
   "codemirror_mode": {
    "name": "ipython",
    "version": 3
   },
   "file_extension": ".py",
   "mimetype": "text/x-python",
   "name": "python",
   "nbconvert_exporter": "python",
   "pygments_lexer": "ipython3",
   "version": "3.11.4"
  }
 },
 "nbformat": 4,
 "nbformat_minor": 5
}
