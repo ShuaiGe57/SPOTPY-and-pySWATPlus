{
 "cells": [
  {
   "cell_type": "code",
   "execution_count": 1,
   "id": "2acb5f01-8ca1-4fc4-b5bb-3d5e2704eca4",
   "metadata": {
    "ExecuteTime": {
     "end_time": "2024-01-10T14:08:16.530164400Z",
     "start_time": "2024-01-10T14:08:15.395253300Z"
    }
   },
   "outputs": [],
   "source": [
    "\"\"\"\n",
    "安装pySWATPlus\n",
    "   SPOTPY\n",
    "   mpi4py\n",
    "   MS mpi\n",
    "\n",
    "0、pySWATPlus 下载rar解压，用anaconda prompt界面cd到解压的文件夹，用pytohn setup.py install安装\n",
    "\n",
    "一、TxtinoutReader\n",
    "1.必须指定工作路径，否则工作路径会变成copy里的路径\n",
    "2.必须使用绝对路径\n",
    "3.网页教程的参数格式不对\n",
    "4.改变参数，不指定行id时，用 None\n",
    "\n",
    "二、FileReader\n",
    "1.读取文件不指定index时，必须用None,不可省略\n",
    "2.usecols省略的话，读取的df为空\n",
    "\n",
    "三、定义SWAT函数给SPOTPY用时注意以下几点\n",
    "1、SWAT模型的参数定义不要超过上下界，如(0, 1)用(0.001, 0.999)代替\n",
    "2、用pySWATPlus定义函数给simulation用时，尽量把只修改一次文件的语句放函数外面\n",
    "   例如， reader.set_beginning_and_end_year(2017, 2018)\n",
    "         reader.set_warmup(1)\n",
    "         reader.enable_object_in_print_prt(\"channel_sd\", True, False, False, False)\n",
    "   这些直接在root文件夹里手动改就行，不要写成代码，因为用mpiexec并行处理时，会导致文件被意想不到的修改\n",
    "\"\"\"\n",
    "%reset -f\n",
    "import os\n",
    "import pandas as pd\n",
    "import numpy as np\n",
    "import spotpy as sp\n",
    "import shutil\n",
    "import mpi4py\n",
    "import sys\n",
    "from pySWATPlus.TxtinoutReader import TxtinoutReader\n",
    "from pySWATPlus.FileReader import FileReader\n",
    "from matplotlib import pyplot as plt\n",
    "from datetime import datetime\n",
    "cwd = os.getcwd()"
   ]
  },
  {
   "cell_type": "markdown",
   "source": [
    "# 用pySWATPlus定义huron_swat函数"
   ],
   "metadata": {
    "collapsed": false
   },
   "id": "ae7b3677bc95ebbf"
  },
  {
   "cell_type": "code",
   "outputs": [],
   "source": [
    "def huron_swat(reader, params):\n",
    "    result = reader.copy_and_run(dir=os.path.join(cwd,'try'),\n",
    "                                 params=params,\n",
    "                                 show_output=False\n",
    "                                 )\n",
    "    # print(reader.root_folder)\n",
    "    reader = FileReader(os.path.join(result, \"channel_sd_day.txt\"),\n",
    "                        has_units = True,\n",
    "                        index=None,\n",
    "                        usecols=[\"mon\", \"day\", \"yr\", \"unit\", \"flo_out\"],\n",
    "                        filter_by={\"unit\": 1}\n",
    "                        )\n",
    "    res = reader.df\n",
    "    res[\"Date\"] = pd.to_datetime(pd.DataFrame({\"year\": res[\"yr\"],\n",
    "                                                 \"month\": res[\"mon\"],\n",
    "                                                 \"day\": res[\"day\"]}))\n",
    "    res.drop(columns=[\"mon\", \"day\", \"yr\", \"unit\"], inplace=True)\n",
    "    os.chdir(cwd) #改回当前路径\n",
    "    return res"
   ],
   "metadata": {
    "collapsed": false,
    "ExecuteTime": {
     "end_time": "2024-01-10T13:17:36.855799700Z",
     "start_time": "2024-01-10T13:17:36.854797700Z"
    }
   },
   "id": "4e91506c349437fb",
   "execution_count": 2
  },
  {
   "cell_type": "markdown",
   "source": [
    "# 定义SPOTPY类"
   ],
   "metadata": {
    "collapsed": false
   },
   "id": "e7548bd89a74b697"
  },
  {
   "cell_type": "code",
   "outputs": [],
   "source": [
    "from spotpy.parameter import Uniform\n",
    "class spot_swat():\n",
    "    def __init__(self, TxtInOut_abspath):\n",
    "        self.reader = TxtinoutReader(TxtInOut_abspath)\n",
    "        self.reader.set_beginning_and_end_year(2017, 2018)\n",
    "        self.reader.set_warmup(1)\n",
    "        self.reader.enable_object_in_print_prt(\"channel_sd\", True, False, False, False)\n",
    "    \n",
    "        self.params = [Uniform(\"lat_ttime\",0.51, 179.0),\n",
    "                       Uniform(\"can_max\",0.01, 99.9),\n",
    "                       Uniform(\"esco\",0.01,0.99),\n",
    "                       Uniform(\"epco\",0.01, 0.99),\n",
    "                       Uniform(\"cn3_swf\",0.01, 0.99),\n",
    "                       Uniform(\"perco\",0.01, 0.99),\n",
    "                       Uniform(\"pet_co\",0.71, 1.29),\n",
    "                       Uniform(\"latq_co\",0.01, 0.99),\n",
    "                       Uniform(\"cn_a\",50.0, 70.0),\n",
    "                       Uniform(\"cn_b\",70.0, 80.0),\n",
    "                       Uniform(\"cn_c\",80.0, 90.0),\n",
    "                       Uniform(\"cn_d\",90.0, 99.0),\n",
    "                       ]\n",
    "    def parameters(self):\n",
    "        return sp.parameter.generate(self.params)\n",
    "    # par = [Uniform(\"lat_ttime\",0.5, 180.0),\n",
    "    #        Uniform(\"can_max\",0.0, 100.0),\n",
    "    #        Uniform(\"esco\",0.0,.0),\n",
    "    #        Uniform(\"epco\",0.0, 1.0),\n",
    "    #        Uniform(\"cn3_swf\",0.0, 1.0),\n",
    "    #        Uniform(\"perco\",0.0, 1.0),\n",
    "    #        Uniform(\"pet_co\",0.7, 1.3),\n",
    "    #        Uniform(\"latq_co\",0.0, 1.0),\n",
    "    #        Uniform(\"cn_a\",50.0, 70.0),\n",
    "    #        Uniform(\"cn_b\",70.0, 80.0),\n",
    "    #        Uniform(\"cn_c\",80.0, 90.0),\n",
    "    #        Uniform(\"cn_d\",90.0, 100.0),\n",
    "    #        ]\n",
    "    def simulation(self, vector):\n",
    "        par = np.array(vector)\n",
    "        swat_params = {\"hydrology.hyd\":(\"name\", [(None,\"lat_ttime\", par[0]),\n",
    "                                                 (None,\"can_max\", par[1]),\n",
    "                                                 (None,\"esco\", par[2]),\n",
    "                                                 (None,\"epco\", par[3]),\n",
    "                                                 (None,\"cn3_swf\", par[4]),\n",
    "                                                 (None,\"perco\", par[5]),\n",
    "                                                 (None,\"pet_co\", par[6]),\n",
    "                                                 (None,\"latq_co\", par[7]),\n",
    "                                                 ],\n",
    "                                        ),\n",
    "                       \"cntable.lum\":(\"description\", [(\"Row_crops\",\"cn_a\", par[8]),\n",
    "                                                      (\"Row_crops\",\"cn_b\", par[9]),\n",
    "                                                      (\"Row_crops\",\"cn_c\", par[10]),\n",
    "                                                      (\"Row_crops\",\"cn_d\", par[11]),\n",
    "                                                      ],\n",
    "                                      ),\n",
    "                       }\n",
    "        sim = huron_swat(self.reader ,swat_params)\n",
    "        return sim[\"flo_out\"]\n",
    "    \n",
    "    def evaluation(self):\n",
    "        obs = pd.read_csv(os.path.join(cwd,'TimeSeries\\\\04199000.csv'))\n",
    "        obs[\"Date\"] = pd.to_datetime(obs[\"Date\"])\n",
    "        obs = obs.loc[((obs[\"Date\"] >= \"2018-01-01\") & (obs[\"Date\"] <= \"2020-12-31\")),\"Q\"]\n",
    "        return obs\n",
    "    def objectivefunction(self, simulation, evaluation):\n",
    "        objfun = sp.objectivefunctions.nashsutcliffe(evaluation, simulation)\n",
    "        return objfun\n",
    "    "
   ],
   "metadata": {
    "collapsed": false,
    "ExecuteTime": {
     "end_time": "2024-01-10T13:17:41.161074700Z",
     "start_time": "2024-01-10T13:17:41.156845800Z"
    }
   },
   "id": "5cdefb95b70a4e4f",
   "execution_count": 3
  },
  {
   "cell_type": "code",
   "outputs": [
    {
     "name": "stdout",
     "output_type": "stream",
     "text": [
      "Initializing the  Monte Carlo (MC) sampler  with  20  repetitions\n",
      "Starting the MC algorithm with 20 repetitions...\n",
      "1 of 20, min objf=0.0311048, max objf=0.0311048, time remaining: 00:03:26\n",
      "Initialize database...\n",
      "['csv', 'hdf5', 'ram', 'sql', 'custom', 'noData']\n",
      "* Database file 'huron.csv' created.\n",
      "2 of 20, min objf=0.0222195, max objf=0.0311048, time remaining: 00:04:22\n",
      "3 of 20, min objf=0.0222195, max objf=0.0311048, time remaining: 00:04:36\n"
     ]
    },
    {
     "ename": "KeyboardInterrupt",
     "evalue": "",
     "output_type": "error",
     "traceback": [
      "\u001B[1;31m---------------------------------------------------------------------------\u001B[0m",
      "\u001B[1;31mKeyboardInterrupt\u001B[0m                         Traceback (most recent call last)",
      "Cell \u001B[1;32mIn[5], line 9\u001B[0m\n\u001B[0;32m      3\u001B[0m sampler \u001B[38;5;241m=\u001B[39m sp\u001B[38;5;241m.\u001B[39malgorithms\u001B[38;5;241m.\u001B[39mmc(spot_setup,\n\u001B[0;32m      4\u001B[0m                            dbname\u001B[38;5;241m=\u001B[39m\u001B[38;5;124m\"\u001B[39m\u001B[38;5;124mhuron\u001B[39m\u001B[38;5;124m\"\u001B[39m, \n\u001B[0;32m      5\u001B[0m                            dbformat\u001B[38;5;241m=\u001B[39m\u001B[38;5;124m\"\u001B[39m\u001B[38;5;124mcsv\u001B[39m\u001B[38;5;124m\"\u001B[39m,\n\u001B[0;32m      6\u001B[0m                            \u001B[38;5;66;03m# parallel=\"mpc\",\u001B[39;00m\n\u001B[0;32m      7\u001B[0m                            )\n\u001B[0;32m      8\u001B[0m \u001B[38;5;66;03m# print(describe(sampler))\u001B[39;00m\n\u001B[1;32m----> 9\u001B[0m sampler\u001B[38;5;241m.\u001B[39msample(repetitions\u001B[38;5;241m=\u001B[39m\u001B[38;5;241m20\u001B[39m,\n\u001B[0;32m     10\u001B[0m                \u001B[38;5;66;03m# ngs=10,\u001B[39;00m\n\u001B[0;32m     11\u001B[0m                )\n",
      "File \u001B[1;32m~\\AppData\\Roaming\\Python\\Python311\\site-packages\\spotpy\\algorithms\\mc.py:69\u001B[0m, in \u001B[0;36mmc.sample\u001B[1;34m(self, repetitions)\u001B[0m\n\u001B[0;32m     65\u001B[0m \u001B[38;5;66;03m# A generator that produces parametersets if called\u001B[39;00m\n\u001B[0;32m     66\u001B[0m param_generator \u001B[38;5;241m=\u001B[39m (\n\u001B[0;32m     67\u001B[0m     (rep, \u001B[38;5;28mself\u001B[39m\u001B[38;5;241m.\u001B[39mparameter()[\u001B[38;5;124m\"\u001B[39m\u001B[38;5;124mrandom\u001B[39m\u001B[38;5;124m\"\u001B[39m]) \u001B[38;5;28;01mfor\u001B[39;00m rep \u001B[38;5;129;01min\u001B[39;00m \u001B[38;5;28mrange\u001B[39m(\u001B[38;5;28mint\u001B[39m(repetitions))\n\u001B[0;32m     68\u001B[0m )\n\u001B[1;32m---> 69\u001B[0m \u001B[38;5;28;01mfor\u001B[39;00m rep, randompar, simulations \u001B[38;5;129;01min\u001B[39;00m \u001B[38;5;28mself\u001B[39m\u001B[38;5;241m.\u001B[39mrepeat(param_generator):\n\u001B[0;32m     70\u001B[0m     \u001B[38;5;66;03m# A function that calculates the fitness of the run and the manages the database\u001B[39;00m\n\u001B[0;32m     71\u001B[0m     \u001B[38;5;28mself\u001B[39m\u001B[38;5;241m.\u001B[39mpostprocessing(rep, randompar, simulations)\n\u001B[0;32m     72\u001B[0m \u001B[38;5;28mself\u001B[39m\u001B[38;5;241m.\u001B[39mfinal_call()\n",
      "File \u001B[1;32m~\\AppData\\Roaming\\Python\\Python311\\site-packages\\spotpy\\parallel\\sequential.py:29\u001B[0m, in \u001B[0;36mForEach.__call__\u001B[1;34m(self, jobs)\u001B[0m\n\u001B[0;32m     27\u001B[0m \u001B[38;5;28;01mdef\u001B[39;00m \u001B[38;5;21m__call__\u001B[39m(\u001B[38;5;28mself\u001B[39m, jobs):\n\u001B[0;32m     28\u001B[0m     \u001B[38;5;28;01mfor\u001B[39;00m job \u001B[38;5;129;01min\u001B[39;00m jobs:\n\u001B[1;32m---> 29\u001B[0m         data \u001B[38;5;241m=\u001B[39m \u001B[38;5;28mself\u001B[39m\u001B[38;5;241m.\u001B[39mprocess(job)\n\u001B[0;32m     30\u001B[0m         \u001B[38;5;28;01myield\u001B[39;00m data\n",
      "File \u001B[1;32m~\\AppData\\Roaming\\Python\\Python311\\site-packages\\spotpy\\algorithms\\_algorithm.py:549\u001B[0m, in \u001B[0;36m_algorithm.simulate\u001B[1;34m(self, id_params_tuple)\u001B[0m\n\u001B[0;32m    546\u001B[0m         model_result \u001B[38;5;241m=\u001B[39m que\u001B[38;5;241m.\u001B[39mget()\n\u001B[0;32m    548\u001B[0m \u001B[38;5;28;01melse\u001B[39;00m:\n\u001B[1;32m--> 549\u001B[0m     model_result \u001B[38;5;241m=\u001B[39m \u001B[38;5;28mself\u001B[39m\u001B[38;5;241m.\u001B[39msetup\u001B[38;5;241m.\u001B[39msimulation(\u001B[38;5;28mself\u001B[39m\u001B[38;5;241m.\u001B[39mpartype(\u001B[38;5;241m*\u001B[39mall_params))\n\u001B[0;32m    551\u001B[0m \u001B[38;5;28;01mreturn\u001B[39;00m \u001B[38;5;28mid\u001B[39m, params, model_result\n",
      "Cell \u001B[1;32mIn[3], line 56\u001B[0m, in \u001B[0;36mspot_swat.simulation\u001B[1;34m(self, vector)\u001B[0m\n\u001B[0;32m     38\u001B[0m par \u001B[38;5;241m=\u001B[39m np\u001B[38;5;241m.\u001B[39marray(vector)\n\u001B[0;32m     39\u001B[0m swat_params \u001B[38;5;241m=\u001B[39m {\u001B[38;5;124m\"\u001B[39m\u001B[38;5;124mhydrology.hyd\u001B[39m\u001B[38;5;124m\"\u001B[39m:(\u001B[38;5;124m\"\u001B[39m\u001B[38;5;124mname\u001B[39m\u001B[38;5;124m\"\u001B[39m, [(\u001B[38;5;28;01mNone\u001B[39;00m,\u001B[38;5;124m\"\u001B[39m\u001B[38;5;124mlat_ttime\u001B[39m\u001B[38;5;124m\"\u001B[39m, par[\u001B[38;5;241m0\u001B[39m]),\n\u001B[0;32m     40\u001B[0m                                          (\u001B[38;5;28;01mNone\u001B[39;00m,\u001B[38;5;124m\"\u001B[39m\u001B[38;5;124mcan_max\u001B[39m\u001B[38;5;124m\"\u001B[39m, par[\u001B[38;5;241m1\u001B[39m]),\n\u001B[0;32m     41\u001B[0m                                          (\u001B[38;5;28;01mNone\u001B[39;00m,\u001B[38;5;124m\"\u001B[39m\u001B[38;5;124mesco\u001B[39m\u001B[38;5;124m\"\u001B[39m, par[\u001B[38;5;241m2\u001B[39m]),\n\u001B[1;32m   (...)\u001B[0m\n\u001B[0;32m     54\u001B[0m                               ),\n\u001B[0;32m     55\u001B[0m                }\n\u001B[1;32m---> 56\u001B[0m sim \u001B[38;5;241m=\u001B[39m huron_swat(\u001B[38;5;28mself\u001B[39m\u001B[38;5;241m.\u001B[39mreader ,swat_params)\n\u001B[0;32m     57\u001B[0m \u001B[38;5;28;01mreturn\u001B[39;00m sim[\u001B[38;5;124m\"\u001B[39m\u001B[38;5;124mflo_out\u001B[39m\u001B[38;5;124m\"\u001B[39m]\n",
      "Cell \u001B[1;32mIn[2], line 2\u001B[0m, in \u001B[0;36mhuron_swat\u001B[1;34m(reader, params)\u001B[0m\n\u001B[0;32m      1\u001B[0m \u001B[38;5;28;01mdef\u001B[39;00m \u001B[38;5;21mhuron_swat\u001B[39m(reader, params):\n\u001B[1;32m----> 2\u001B[0m     result \u001B[38;5;241m=\u001B[39m reader\u001B[38;5;241m.\u001B[39mcopy_and_run(\u001B[38;5;28mdir\u001B[39m\u001B[38;5;241m=\u001B[39mos\u001B[38;5;241m.\u001B[39mpath\u001B[38;5;241m.\u001B[39mjoin(cwd,\u001B[38;5;124m'\u001B[39m\u001B[38;5;124mtry\u001B[39m\u001B[38;5;124m'\u001B[39m),\n\u001B[0;32m      3\u001B[0m                                  params\u001B[38;5;241m=\u001B[39mparams,\n\u001B[0;32m      4\u001B[0m                                  show_output\u001B[38;5;241m=\u001B[39m\u001B[38;5;28;01mFalse\u001B[39;00m\n\u001B[0;32m      5\u001B[0m                                  )\n\u001B[0;32m      6\u001B[0m     \u001B[38;5;66;03m# print(reader.root_folder)\u001B[39;00m\n\u001B[0;32m      7\u001B[0m     reader \u001B[38;5;241m=\u001B[39m FileReader(os\u001B[38;5;241m.\u001B[39mpath\u001B[38;5;241m.\u001B[39mjoin(result, \u001B[38;5;124m\"\u001B[39m\u001B[38;5;124mchannel_sd_day.txt\u001B[39m\u001B[38;5;124m\"\u001B[39m),\n\u001B[0;32m      8\u001B[0m                         has_units \u001B[38;5;241m=\u001B[39m \u001B[38;5;28;01mTrue\u001B[39;00m,\n\u001B[0;32m      9\u001B[0m                         index\u001B[38;5;241m=\u001B[39m\u001B[38;5;28;01mNone\u001B[39;00m,\n\u001B[0;32m     10\u001B[0m                         usecols\u001B[38;5;241m=\u001B[39m[\u001B[38;5;124m\"\u001B[39m\u001B[38;5;124mmon\u001B[39m\u001B[38;5;124m\"\u001B[39m, \u001B[38;5;124m\"\u001B[39m\u001B[38;5;124mday\u001B[39m\u001B[38;5;124m\"\u001B[39m, \u001B[38;5;124m\"\u001B[39m\u001B[38;5;124myr\u001B[39m\u001B[38;5;124m\"\u001B[39m, \u001B[38;5;124m\"\u001B[39m\u001B[38;5;124munit\u001B[39m\u001B[38;5;124m\"\u001B[39m, \u001B[38;5;124m\"\u001B[39m\u001B[38;5;124mflo_out\u001B[39m\u001B[38;5;124m\"\u001B[39m],\n\u001B[0;32m     11\u001B[0m                         filter_by\u001B[38;5;241m=\u001B[39m{\u001B[38;5;124m\"\u001B[39m\u001B[38;5;124munit\u001B[39m\u001B[38;5;124m\"\u001B[39m: \u001B[38;5;241m1\u001B[39m}\n\u001B[0;32m     12\u001B[0m                         )\n",
      "File \u001B[1;32mD:\\Software\\Anaconda\\Lib\\site-packages\\pyswatplus-0.0.7-py3.11.egg\\pySWATPlus\\TxtinoutReader.py:477\u001B[0m, in \u001B[0;36mTxtinoutReader.copy_and_run\u001B[1;34m(self, dir, overwrite, params, show_output)\u001B[0m\n\u001B[0;32m    475\u001B[0m tmp_path \u001B[38;5;241m=\u001B[39m \u001B[38;5;28mself\u001B[39m\u001B[38;5;241m.\u001B[39mcopy_swat(\u001B[38;5;28mdir\u001B[39m \u001B[38;5;241m=\u001B[39m \u001B[38;5;28mdir\u001B[39m, overwrite \u001B[38;5;241m=\u001B[39m overwrite)\n\u001B[0;32m    476\u001B[0m reader \u001B[38;5;241m=\u001B[39m TxtinoutReader(tmp_path)\n\u001B[1;32m--> 477\u001B[0m \u001B[38;5;28;01mreturn\u001B[39;00m reader\u001B[38;5;241m.\u001B[39mrun_swat(params, show_output \u001B[38;5;241m=\u001B[39m show_output)\n",
      "File \u001B[1;32mD:\\Software\\Anaconda\\Lib\\site-packages\\pyswatplus-0.0.7-py3.11.egg\\pySWATPlus\\TxtinoutReader.py:439\u001B[0m, in \u001B[0;36mTxtinoutReader.run_swat\u001B[1;34m(self, params, show_output)\u001B[0m\n\u001B[0;32m    435\u001B[0m beginning \u001B[38;5;241m=\u001B[39m datetime\u001B[38;5;241m.\u001B[39mdatetime\u001B[38;5;241m.\u001B[39mnow()\n\u001B[0;32m    437\u001B[0m \u001B[38;5;66;03m#run simulation\u001B[39;00m\n\u001B[0;32m    438\u001B[0m \u001B[38;5;66;03m#print(f'Simulation started at {beginning.strftime(\"%H:%M:%S\")}. Stored at {str(self.root_folder)}.')\u001B[39;00m\n\u001B[1;32m--> 439\u001B[0m aux_txtinout\u001B[38;5;241m.\u001B[39m_run_swat(show_output\u001B[38;5;241m=\u001B[39mshow_output)\n\u001B[0;32m    440\u001B[0m end \u001B[38;5;241m=\u001B[39m datetime\u001B[38;5;241m.\u001B[39mdatetime\u001B[38;5;241m.\u001B[39mnow()\n\u001B[0;32m    441\u001B[0m td \u001B[38;5;241m=\u001B[39m end \u001B[38;5;241m-\u001B[39m beginning\n",
      "File \u001B[1;32mD:\\Software\\Anaconda\\Lib\\site-packages\\pyswatplus-0.0.7-py3.11.egg\\pySWATPlus\\TxtinoutReader.py:381\u001B[0m, in \u001B[0;36mTxtinoutReader._run_swat\u001B[1;34m(self, show_output)\u001B[0m\n\u001B[0;32m    377\u001B[0m \u001B[38;5;28;01mwith\u001B[39;00m subprocess\u001B[38;5;241m.\u001B[39mPopen(swat_exe_path, stdout\u001B[38;5;241m=\u001B[39msubprocess\u001B[38;5;241m.\u001B[39mPIPE, stderr\u001B[38;5;241m=\u001B[39msubprocess\u001B[38;5;241m.\u001B[39mPIPE) \u001B[38;5;28;01mas\u001B[39;00m process:\n\u001B[0;32m    378\u001B[0m     \u001B[38;5;66;03m# Read and print the output while it's being produced\u001B[39;00m\n\u001B[0;32m    379\u001B[0m     \u001B[38;5;28;01mwhile\u001B[39;00m \u001B[38;5;28;01mTrue\u001B[39;00m:\n\u001B[0;32m    380\u001B[0m         \u001B[38;5;66;03m# Read a line of output\u001B[39;00m\n\u001B[1;32m--> 381\u001B[0m         raw_output \u001B[38;5;241m=\u001B[39m process\u001B[38;5;241m.\u001B[39mstdout\u001B[38;5;241m.\u001B[39mreadline()\n\u001B[0;32m    383\u001B[0m         \u001B[38;5;66;03m# Check if the output is empty and the subprocess has finished\u001B[39;00m\n\u001B[0;32m    384\u001B[0m         \u001B[38;5;28;01mif\u001B[39;00m raw_output \u001B[38;5;241m==\u001B[39m \u001B[38;5;124mb\u001B[39m\u001B[38;5;124m'\u001B[39m\u001B[38;5;124m'\u001B[39m \u001B[38;5;129;01mand\u001B[39;00m process\u001B[38;5;241m.\u001B[39mpoll() \u001B[38;5;129;01mis\u001B[39;00m \u001B[38;5;129;01mnot\u001B[39;00m \u001B[38;5;28;01mNone\u001B[39;00m:\n",
      "\u001B[1;31mKeyboardInterrupt\u001B[0m: "
     ]
    }
   ],
   "source": [
    "proj_path = os.path.join(cwd, \"TxtInOut\")\n",
    "spot_setup = spot_swat(proj_path)\n",
    "sampler = sp.algorithms.mc(spot_setup,\n",
    "                           dbname=\"huron\", \n",
    "                           dbformat=\"csv\",\n",
    "                           # parallel=\"mpc\",\n",
    "                           )\n",
    "# print(describe(sampler))\n",
    "sampler.sample(repetitions=20,\n",
    "               # ngs=10,\n",
    "               )"
   ],
   "metadata": {
    "collapsed": false,
    "ExecuteTime": {
     "end_time": "2024-01-10T13:29:31.596816300Z",
     "start_time": "2024-01-10T13:28:18.696343500Z"
    }
   },
   "id": "efd6fa65568daefd",
   "execution_count": 5
  },
  {
   "cell_type": "code",
   "outputs": [
    {
     "data": {
      "text/plain": "<Figure size 900x500 with 1 Axes>",
      "image/png": "[encoded data removed]"
     },
     "metadata": {},
     "output_type": "display_data"
    }
   ],
   "source": [
    "results = sp.analyser.load_csv_results(\"huron\")\n",
    "fig = plt.figure(1, figsize=(9,5))\n",
    "plt.plot(results['like1'])\n",
    "plt.xlabel(\"iteration\")\n",
    "plt.ylabel(\"-NSE\")\n",
    "plt.show()"
   ],
   "metadata": {
    "collapsed": false,
    "ExecuteTime": {
     "end_time": "2024-01-10T14:08:36.347884500Z",
     "start_time": "2024-01-10T14:08:34.157518700Z"
    }
   },
   "id": "94a2430c36284351",
   "execution_count": 3
  },
  {
   "cell_type": "code",
   "outputs": [
    {
     "data": {
      "text/plain": "'D:\\\\Document\\\\huronswat'"
     },
     "execution_count": 2,
     "metadata": {},
     "output_type": "execute_result"
    }
   ],
   "source": [
    "# obs = pd.read_csv(os.path.join(cwd,'TimeSeries\\\\04199000.csv'))\n",
    "# obs[\"Date\"] = pd.to_datetime(obs[\"Date\"])\n",
    "# obs = obs.loc[((obs[\"Date\"] >= \"2018-01-01\") & (obs[\"Date\"] <= \"2020-12-31\")),\"Q\"]\n",
    "# \n",
    "# copy_path = \"D:\\\\Document\\\\5_Paper\\\\Uncertainty\\\\TidyData\\\\try\\\\tmpesiisrsz\"\n",
    "# reader = FileReader(os.path.join(copy_path, \"channel_sd_day.txt\"),\n",
    "#                     has_units = True,\n",
    "#                     index=None,\n",
    "#                     usecols=[\"mon\", \"day\", \"yr\", \"unit\", \"flo_out\"],\n",
    "#                     filter_by={\"unit\": 1}\n",
    "#                     )\n",
    "# res = reader.df\n",
    "# res[\"Date\"] = pd.to_datetime(pd.DataFrame({\"year\": res[\"yr\"],\n",
    "#                                            \"month\": res[\"mon\"],\n",
    "#                                            \"day\": res[\"day\"]}))\n",
    "# res.drop(columns=[\"mon\", \"day\", \"yr\", \"unit\"], inplace=True)\n",
    "os.getcwd()"
   ],
   "metadata": {
    "collapsed": false,
    "ExecuteTime": {
     "end_time": "2024-01-10T14:08:30.350043700Z",
     "start_time": "2024-01-10T14:08:30.347105800Z"
    }
   },
   "id": "d61928d9676fe41",
   "execution_count": 2
  }
 ],
 "metadata": {
  "kernelspec": {
   "display_name": "Python 3 (ipykernel)",
   "language": "python",
   "name": "python3"
  },
  "language_info": {
   "codemirror_mode": {
    "name": "ipython",
    "version": 3
   },
   "file_extension": ".py",
   "mimetype": "text/x-python",
   "name": "python",
   "nbconvert_exporter": "python",
   "pygments_lexer": "ipython3",
   "version": "3.11.4"
  }
 },
 "nbformat": 4,
 "nbformat_minor": 5
}
